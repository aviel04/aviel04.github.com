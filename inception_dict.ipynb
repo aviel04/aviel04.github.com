{
  "nbformat": 4,
  "nbformat_minor": 0,
  "metadata": {
    "colab": {
      "name": "inception_dict.ipynb",
      "provenance": [],
      "mount_file_id": "1v9_VeCaRum56Z8fOKtoukKOhpVlVvKJA",
      "authorship_tag": "ABX9TyMQcsncvI5TEbN3cN2v+yAX",
      "include_colab_link": true
    },
    "kernelspec": {
      "name": "python3",
      "display_name": "Python 3"
    },
    "language_info": {
      "name": "python"
    }
  },
  "cells": [
    {
      "cell_type": "markdown",
      "metadata": {
        "id": "view-in-github",
        "colab_type": "text"
      },
      "source": [
        "<a href=\"https://colab.research.google.com/github/aviel04/aviel04.github.com/blob/main/inception_dict.ipynb\" target=\"_parent\"><img src=\"https://colab.research.google.com/assets/colab-badge.svg\" alt=\"Open In Colab\"/></a>"
      ]
    },
    {
      "cell_type": "code",
      "execution_count": 1,
      "metadata": {
        "colab": {
          "base_uri": "https://localhost:8080/",
          "height": 88
        },
        "id": "LQUJod9jeiQa",
        "outputId": "e46fbf85-cfec-42cf-bd56-7c596246cc10"
      },
      "outputs": [
        {
          "output_type": "execute_result",
          "data": {
            "text/plain": [
              "' \\nINCEPTION - dictionary with books as keys, every book is a file.\\nthe function will read the files, count the characters and put \\na dicitonary of books under the book of the dicitonary of the show of\\ncharacters in books \\nthe function returns the dictionary \\n'"
            ],
            "application/vnd.google.colaboratory.intrinsic+json": {
              "type": "string"
            }
          },
          "metadata": {},
          "execution_count": 1
        }
      ],
      "source": [
        "''' \n",
        "INCEPTION - dictionary with books as keys, every book is a file.\n",
        "the function will read the files, count the characters and put \n",
        "a dicitonary of books under the book of the dicitonary of the show of\n",
        "characters in books \n",
        "the function returns the dictionary \n",
        "'''\n",
        "\n"
      ]
    },
    {
      "cell_type": "code",
      "source": [
        "def inception(books_dict):\n",
        "  ''' takes book dictionary returns dictionary of books by character count\n",
        "      the book name is the key and the character count is the value '''\n",
        "  result_dict = {}\n",
        "  for book, name in books_dict.items():\n",
        "    chars = 0\n",
        "    with open(book, 'r') as file:\n",
        "      for line in file:\n",
        "        for character in line:\n",
        "          chars += 1\n",
        "    result_dict[name] = chars"
      ],
      "metadata": {
        "id": "MxGjgzAkr-nV"
      },
      "execution_count": 6,
      "outputs": []
    },
    {
      "cell_type": "code",
      "source": [
        ""
      ],
      "metadata": {
        "id": "mgDrc3or9M8V"
      },
      "execution_count": null,
      "outputs": []
    }
  ]
}